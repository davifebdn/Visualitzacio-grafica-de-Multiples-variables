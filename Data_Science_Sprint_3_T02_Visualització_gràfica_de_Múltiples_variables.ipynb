{
  "nbformat": 4,
  "nbformat_minor": 0,
  "metadata": {
    "colab": {
      "name": "Data Science - Sprint 3. T02 - Visualització gràfica de Múltiples variables.ipynb",
      "provenance": [],
      "toc_visible": true
    },
    "kernelspec": {
      "name": "python3",
      "display_name": "Python 3"
    },
    "language_info": {
      "name": "python"
    }
  },
  "cells": [
    {
      "cell_type": "markdown",
      "source": [
        "#S03 T02: Visualització gràfica de Múltiples variables\n",
        "Anem a practicar i a familiaritzar-nos amb la Visualització gràfica de Múltiples variables. "
      ],
      "metadata": {
        "id": "T1aeKax600Gr"
      }
    },
    {
      "cell_type": "markdown",
      "source": [
        "##Nivell 1"
      ],
      "metadata": {
        "id": "7Mutqt8E03ii"
      }
    },
    {
      "cell_type": "markdown",
      "source": [
        "###Exercici 1\n",
        "\n",
        "Realitza la pràctica del notebook a GitHub \"03 EXAMINING DATA\" amb seaborn i el dataset \"tips\". "
      ],
      "metadata": {
        "id": "sdX3CMOt09kj"
      }
    },
    {
      "cell_type": "markdown",
      "source": [
        "Descarreguem la pràctica [Examining Data](https://github.com/IT-Academy-BCN/Data-Science/blob/8ee91d2bb6f62809183f124e0b8cd23113527d16/Examining-Data/03%20EXAMINING%20DATA.ipynb) del GitHub del IT Academy i la base de dades [Tips](https://github.com/IT-Academy-BCN/Data-Science/blob/8ee91d2bb6f62809183f124e0b8cd23113527d16/Data-sources/tips.csv).\n",
        "A continuació, enganxem aquí la pràctica Examining Data. Hi ha moltes seccions repetides en aquesta pràctica, intentaré fer un reendreçament."
      ],
      "metadata": {
        "id": "crFc99PY0_2K"
      }
    },
    {
      "cell_type": "code",
      "execution_count": null,
      "metadata": {
        "ExecuteTime": {
          "end_time": "2021-02-03T09:47:03.963305Z",
          "start_time": "2021-02-03T09:46:57.616640Z"
        },
        "id": "AlsJlKIp4M22"
      },
      "outputs": [],
      "source": [
        "# importing libraries\n",
        "import numpy as np\n",
        "import pandas as pd\n",
        "import matplotlib.pyplot as plt\n",
        "import seaborn as sns\n",
        "import warnings\n",
        "warnings.filterwarnings('ignore')"
      ]
    },
    {
      "cell_type": "markdown",
      "metadata": {
        "id": "U2I6RON44M24"
      },
      "source": [
        "#### Exploració de variables bivariants amb Scatterplot"
      ]
    },
    {
      "cell_type": "code",
      "execution_count": null,
      "metadata": {
        "ExecuteTime": {
          "end_time": "2021-01-20T16:37:07.533413Z",
          "start_time": "2021-01-20T16:37:07.504490Z"
        },
        "id": "SYzH-qqQ4M28",
        "colab": {
          "base_uri": "https://localhost:8080/",
          "height": 363
        },
        "outputId": "3c542ae3-d81d-4f6e-dd06-7e123e4055b4"
      },
      "outputs": [
        {
          "output_type": "execute_result",
          "data": {
            "text/plain": [
              "   total_bill   tip     sex smoker  day    time  size\n",
              "0       16.99  1.01  Female     No  Sun  Dinner     2\n",
              "1       10.34  1.66    Male     No  Sun  Dinner     3\n",
              "2       21.01  3.50    Male     No  Sun  Dinner     3\n",
              "3       23.68  3.31    Male     No  Sun  Dinner     2\n",
              "4       24.59  3.61  Female     No  Sun  Dinner     4\n",
              "5       25.29  4.71    Male     No  Sun  Dinner     4\n",
              "6        8.77  2.00    Male     No  Sun  Dinner     2\n",
              "7       26.88  3.12    Male     No  Sun  Dinner     4\n",
              "8       15.04  1.96    Male     No  Sun  Dinner     2\n",
              "9       14.78  3.23    Male     No  Sun  Dinner     2"
            ],
            "text/html": [
              "\n",
              "  <div id=\"df-a665034e-dfa1-403f-91e3-73a09a427173\">\n",
              "    <div class=\"colab-df-container\">\n",
              "      <div>\n",
              "<style scoped>\n",
              "    .dataframe tbody tr th:only-of-type {\n",
              "        vertical-align: middle;\n",
              "    }\n",
              "\n",
              "    .dataframe tbody tr th {\n",
              "        vertical-align: top;\n",
              "    }\n",
              "\n",
              "    .dataframe thead th {\n",
              "        text-align: right;\n",
              "    }\n",
              "</style>\n",
              "<table border=\"1\" class=\"dataframe\">\n",
              "  <thead>\n",
              "    <tr style=\"text-align: right;\">\n",
              "      <th></th>\n",
              "      <th>total_bill</th>\n",
              "      <th>tip</th>\n",
              "      <th>sex</th>\n",
              "      <th>smoker</th>\n",
              "      <th>day</th>\n",
              "      <th>time</th>\n",
              "      <th>size</th>\n",
              "    </tr>\n",
              "  </thead>\n",
              "  <tbody>\n",
              "    <tr>\n",
              "      <th>0</th>\n",
              "      <td>16.99</td>\n",
              "      <td>1.01</td>\n",
              "      <td>Female</td>\n",
              "      <td>No</td>\n",
              "      <td>Sun</td>\n",
              "      <td>Dinner</td>\n",
              "      <td>2</td>\n",
              "    </tr>\n",
              "    <tr>\n",
              "      <th>1</th>\n",
              "      <td>10.34</td>\n",
              "      <td>1.66</td>\n",
              "      <td>Male</td>\n",
              "      <td>No</td>\n",
              "      <td>Sun</td>\n",
              "      <td>Dinner</td>\n",
              "      <td>3</td>\n",
              "    </tr>\n",
              "    <tr>\n",
              "      <th>2</th>\n",
              "      <td>21.01</td>\n",
              "      <td>3.50</td>\n",
              "      <td>Male</td>\n",
              "      <td>No</td>\n",
              "      <td>Sun</td>\n",
              "      <td>Dinner</td>\n",
              "      <td>3</td>\n",
              "    </tr>\n",
              "    <tr>\n",
              "      <th>3</th>\n",
              "      <td>23.68</td>\n",
              "      <td>3.31</td>\n",
              "      <td>Male</td>\n",
              "      <td>No</td>\n",
              "      <td>Sun</td>\n",
              "      <td>Dinner</td>\n",
              "      <td>2</td>\n",
              "    </tr>\n",
              "    <tr>\n",
              "      <th>4</th>\n",
              "      <td>24.59</td>\n",
              "      <td>3.61</td>\n",
              "      <td>Female</td>\n",
              "      <td>No</td>\n",
              "      <td>Sun</td>\n",
              "      <td>Dinner</td>\n",
              "      <td>4</td>\n",
              "    </tr>\n",
              "    <tr>\n",
              "      <th>5</th>\n",
              "      <td>25.29</td>\n",
              "      <td>4.71</td>\n",
              "      <td>Male</td>\n",
              "      <td>No</td>\n",
              "      <td>Sun</td>\n",
              "      <td>Dinner</td>\n",
              "      <td>4</td>\n",
              "    </tr>\n",
              "    <tr>\n",
              "      <th>6</th>\n",
              "      <td>8.77</td>\n",
              "      <td>2.00</td>\n",
              "      <td>Male</td>\n",
              "      <td>No</td>\n",
              "      <td>Sun</td>\n",
              "      <td>Dinner</td>\n",
              "      <td>2</td>\n",
              "    </tr>\n",
              "    <tr>\n",
              "      <th>7</th>\n",
              "      <td>26.88</td>\n",
              "      <td>3.12</td>\n",
              "      <td>Male</td>\n",
              "      <td>No</td>\n",
              "      <td>Sun</td>\n",
              "      <td>Dinner</td>\n",
              "      <td>4</td>\n",
              "    </tr>\n",
              "    <tr>\n",
              "      <th>8</th>\n",
              "      <td>15.04</td>\n",
              "      <td>1.96</td>\n",
              "      <td>Male</td>\n",
              "      <td>No</td>\n",
              "      <td>Sun</td>\n",
              "      <td>Dinner</td>\n",
              "      <td>2</td>\n",
              "    </tr>\n",
              "    <tr>\n",
              "      <th>9</th>\n",
              "      <td>14.78</td>\n",
              "      <td>3.23</td>\n",
              "      <td>Male</td>\n",
              "      <td>No</td>\n",
              "      <td>Sun</td>\n",
              "      <td>Dinner</td>\n",
              "      <td>2</td>\n",
              "    </tr>\n",
              "  </tbody>\n",
              "</table>\n",
              "</div>\n",
              "      <button class=\"colab-df-convert\" onclick=\"convertToInteractive('df-a665034e-dfa1-403f-91e3-73a09a427173')\"\n",
              "              title=\"Convert this dataframe to an interactive table.\"\n",
              "              style=\"display:none;\">\n",
              "        \n",
              "  <svg xmlns=\"http://www.w3.org/2000/svg\" height=\"24px\"viewBox=\"0 0 24 24\"\n",
              "       width=\"24px\">\n",
              "    <path d=\"M0 0h24v24H0V0z\" fill=\"none\"/>\n",
              "    <path d=\"M18.56 5.44l.94 2.06.94-2.06 2.06-.94-2.06-.94-.94-2.06-.94 2.06-2.06.94zm-11 1L8.5 8.5l.94-2.06 2.06-.94-2.06-.94L8.5 2.5l-.94 2.06-2.06.94zm10 10l.94 2.06.94-2.06 2.06-.94-2.06-.94-.94-2.06-.94 2.06-2.06.94z\"/><path d=\"M17.41 7.96l-1.37-1.37c-.4-.4-.92-.59-1.43-.59-.52 0-1.04.2-1.43.59L10.3 9.45l-7.72 7.72c-.78.78-.78 2.05 0 2.83L4 21.41c.39.39.9.59 1.41.59.51 0 1.02-.2 1.41-.59l7.78-7.78 2.81-2.81c.8-.78.8-2.07 0-2.86zM5.41 20L4 18.59l7.72-7.72 1.47 1.35L5.41 20z\"/>\n",
              "  </svg>\n",
              "      </button>\n",
              "      \n",
              "  <style>\n",
              "    .colab-df-container {\n",
              "      display:flex;\n",
              "      flex-wrap:wrap;\n",
              "      gap: 12px;\n",
              "    }\n",
              "\n",
              "    .colab-df-convert {\n",
              "      background-color: #E8F0FE;\n",
              "      border: none;\n",
              "      border-radius: 50%;\n",
              "      cursor: pointer;\n",
              "      display: none;\n",
              "      fill: #1967D2;\n",
              "      height: 32px;\n",
              "      padding: 0 0 0 0;\n",
              "      width: 32px;\n",
              "    }\n",
              "\n",
              "    .colab-df-convert:hover {\n",
              "      background-color: #E2EBFA;\n",
              "      box-shadow: 0px 1px 2px rgba(60, 64, 67, 0.3), 0px 1px 3px 1px rgba(60, 64, 67, 0.15);\n",
              "      fill: #174EA6;\n",
              "    }\n",
              "\n",
              "    [theme=dark] .colab-df-convert {\n",
              "      background-color: #3B4455;\n",
              "      fill: #D2E3FC;\n",
              "    }\n",
              "\n",
              "    [theme=dark] .colab-df-convert:hover {\n",
              "      background-color: #434B5C;\n",
              "      box-shadow: 0px 1px 3px 1px rgba(0, 0, 0, 0.15);\n",
              "      filter: drop-shadow(0px 1px 2px rgba(0, 0, 0, 0.3));\n",
              "      fill: #FFFFFF;\n",
              "    }\n",
              "  </style>\n",
              "\n",
              "      <script>\n",
              "        const buttonEl =\n",
              "          document.querySelector('#df-a665034e-dfa1-403f-91e3-73a09a427173 button.colab-df-convert');\n",
              "        buttonEl.style.display =\n",
              "          google.colab.kernel.accessAllowed ? 'block' : 'none';\n",
              "\n",
              "        async function convertToInteractive(key) {\n",
              "          const element = document.querySelector('#df-a665034e-dfa1-403f-91e3-73a09a427173');\n",
              "          const dataTable =\n",
              "            await google.colab.kernel.invokeFunction('convertToInteractive',\n",
              "                                                     [key], {});\n",
              "          if (!dataTable) return;\n",
              "\n",
              "          const docLinkHtml = 'Like what you see? Visit the ' +\n",
              "            '<a target=\"_blank\" href=https://colab.research.google.com/notebooks/data_table.ipynb>data table notebook</a>'\n",
              "            + ' to learn more about interactive tables.';\n",
              "          element.innerHTML = '';\n",
              "          dataTable['output_type'] = 'display_data';\n",
              "          await google.colab.output.renderOutput(dataTable, element);\n",
              "          const docLink = document.createElement('div');\n",
              "          docLink.innerHTML = docLinkHtml;\n",
              "          element.appendChild(docLink);\n",
              "        }\n",
              "      </script>\n",
              "    </div>\n",
              "  </div>\n",
              "  "
            ]
          },
          "metadata": {},
          "execution_count": 20
        }
      ],
      "source": [
        "#Carreguem el csv de tips\n",
        "tips = pd.read_csv('/content/drive/MyDrive/IT Academy/Data Science/Srpint 3. Visualització de dades/Data-Science-main/Data-sources/tips.csv')\n",
        "tips.head(10)"
      ]
    },
    {
      "cell_type": "markdown",
      "source": [
        "Carreguem la base de dades Tips"
      ],
      "metadata": {
        "id": "FaDMEFQFWgHu"
      }
    },
    {
      "cell_type": "code",
      "execution_count": null,
      "metadata": {
        "ExecuteTime": {
          "end_time": "2021-01-20T16:37:27.845980Z",
          "start_time": "2021-01-20T16:37:27.839999Z"
        },
        "id": "l165Isy04M29",
        "colab": {
          "base_uri": "https://localhost:8080/"
        },
        "outputId": "3ee5598b-4fc9-4404-fe08-d8a5aa41d469"
      },
      "outputs": [
        {
          "output_type": "execute_result",
          "data": {
            "text/plain": [
              "(244, 7)"
            ]
          },
          "metadata": {},
          "execution_count": 7
        }
      ],
      "source": [
        "tips.shape"
      ]
    },
    {
      "cell_type": "markdown",
      "source": [
        "`.shape` mostra el número de files i columnes."
      ],
      "metadata": {
        "id": "MtuEgWhBWzM-"
      }
    },
    {
      "cell_type": "code",
      "execution_count": null,
      "metadata": {
        "ExecuteTime": {
          "end_time": "2021-01-20T16:38:12.851359Z",
          "start_time": "2021-01-20T16:38:12.842383Z"
        },
        "id": "gT4yW13p4M2-",
        "colab": {
          "base_uri": "https://localhost:8080/"
        },
        "outputId": "f9f2e6e0-17e3-468e-f3b6-c059bbe137f5"
      },
      "outputs": [
        {
          "output_type": "execute_result",
          "data": {
            "text/plain": [
              "Index(['total_bill', 'tip', 'sex', 'smoker', 'day', 'time', 'size'], dtype='object')"
            ]
          },
          "metadata": {},
          "execution_count": 8
        }
      ],
      "source": [
        "tips.columns"
      ]
    },
    {
      "cell_type": "markdown",
      "source": [
        "`.columns` mostra el nomb de les columnes i el tipus d'objecte."
      ],
      "metadata": {
        "id": "KMmfFbMhW-QO"
      }
    },
    {
      "cell_type": "code",
      "execution_count": null,
      "metadata": {
        "ExecuteTime": {
          "end_time": "2021-01-20T16:38:30.788682Z",
          "start_time": "2021-01-20T16:38:30.780704Z"
        },
        "id": "nCgz_P814M2_",
        "colab": {
          "base_uri": "https://localhost:8080/"
        },
        "outputId": "53e0d3cb-dbe6-4143-9ca8-9e3b56860f65"
      },
      "outputs": [
        {
          "output_type": "execute_result",
          "data": {
            "text/plain": [
              "array(['No', 'Yes'], dtype=object)"
            ]
          },
          "metadata": {},
          "execution_count": 13
        }
      ],
      "source": [
        "tips.smoker.unique()"
      ]
    },
    {
      "cell_type": "markdown",
      "source": [
        "`.unique()` retorna els elements únics de l'Array, en aquest cas els elements únics de la columna **smoker**, que pot ser Yes o No."
      ],
      "metadata": {
        "id": "89t6cHopXj9G"
      }
    },
    {
      "cell_type": "code",
      "execution_count": null,
      "metadata": {
        "ExecuteTime": {
          "end_time": "2021-01-20T16:38:46.211796Z",
          "start_time": "2021-01-20T16:38:46.205812Z"
        },
        "id": "By14ar634M2_",
        "colab": {
          "base_uri": "https://localhost:8080/"
        },
        "outputId": "4bb218c2-1650-41f7-a59d-2f4effee21c8"
      },
      "outputs": [
        {
          "output_type": "execute_result",
          "data": {
            "text/plain": [
              "4"
            ]
          },
          "metadata": {},
          "execution_count": 19
        }
      ],
      "source": [
        "tips.day.nunique()"
      ]
    },
    {
      "cell_type": "markdown",
      "source": [
        "`.nunique` compta els elements diferents que hi ha a un Array, però no diu quants de cada. Per exemple, a la columna **day** diu que hi ha 4 dies diferents (de dijous a diumenge).\n"
      ],
      "metadata": {
        "id": "FBhEuohOY1h7"
      }
    },
    {
      "cell_type": "code",
      "execution_count": null,
      "metadata": {
        "ExecuteTime": {
          "end_time": "2021-01-20T16:39:19.158373Z",
          "start_time": "2021-01-20T16:39:19.085568Z"
        },
        "id": "l75WPBBp4M2_",
        "colab": {
          "base_uri": "https://localhost:8080/",
          "height": 300
        },
        "outputId": "a097244b-4270-4366-a848-0d7da529b790"
      },
      "outputs": [
        {
          "output_type": "execute_result",
          "data": {
            "text/plain": [
              "       total_bill      tip     size\n",
              "count     244.000  244.000  244.000\n",
              "mean       19.786    2.998    2.570\n",
              "std         8.902    1.384    0.951\n",
              "min         3.070    1.000    1.000\n",
              "25%        13.348    2.000    2.000\n",
              "50%        17.795    2.900    2.000\n",
              "75%        24.127    3.562    3.000\n",
              "max        50.810   10.000    6.000"
            ],
            "text/html": [
              "\n",
              "  <div id=\"df-0962b62d-93da-496a-a511-cf56bf501134\">\n",
              "    <div class=\"colab-df-container\">\n",
              "      <div>\n",
              "<style scoped>\n",
              "    .dataframe tbody tr th:only-of-type {\n",
              "        vertical-align: middle;\n",
              "    }\n",
              "\n",
              "    .dataframe tbody tr th {\n",
              "        vertical-align: top;\n",
              "    }\n",
              "\n",
              "    .dataframe thead th {\n",
              "        text-align: right;\n",
              "    }\n",
              "</style>\n",
              "<table border=\"1\" class=\"dataframe\">\n",
              "  <thead>\n",
              "    <tr style=\"text-align: right;\">\n",
              "      <th></th>\n",
              "      <th>total_bill</th>\n",
              "      <th>tip</th>\n",
              "      <th>size</th>\n",
              "    </tr>\n",
              "  </thead>\n",
              "  <tbody>\n",
              "    <tr>\n",
              "      <th>count</th>\n",
              "      <td>244.000</td>\n",
              "      <td>244.000</td>\n",
              "      <td>244.000</td>\n",
              "    </tr>\n",
              "    <tr>\n",
              "      <th>mean</th>\n",
              "      <td>19.786</td>\n",
              "      <td>2.998</td>\n",
              "      <td>2.570</td>\n",
              "    </tr>\n",
              "    <tr>\n",
              "      <th>std</th>\n",
              "      <td>8.902</td>\n",
              "      <td>1.384</td>\n",
              "      <td>0.951</td>\n",
              "    </tr>\n",
              "    <tr>\n",
              "      <th>min</th>\n",
              "      <td>3.070</td>\n",
              "      <td>1.000</td>\n",
              "      <td>1.000</td>\n",
              "    </tr>\n",
              "    <tr>\n",
              "      <th>25%</th>\n",
              "      <td>13.348</td>\n",
              "      <td>2.000</td>\n",
              "      <td>2.000</td>\n",
              "    </tr>\n",
              "    <tr>\n",
              "      <th>50%</th>\n",
              "      <td>17.795</td>\n",
              "      <td>2.900</td>\n",
              "      <td>2.000</td>\n",
              "    </tr>\n",
              "    <tr>\n",
              "      <th>75%</th>\n",
              "      <td>24.127</td>\n",
              "      <td>3.562</td>\n",
              "      <td>3.000</td>\n",
              "    </tr>\n",
              "    <tr>\n",
              "      <th>max</th>\n",
              "      <td>50.810</td>\n",
              "      <td>10.000</td>\n",
              "      <td>6.000</td>\n",
              "    </tr>\n",
              "  </tbody>\n",
              "</table>\n",
              "</div>\n",
              "      <button class=\"colab-df-convert\" onclick=\"convertToInteractive('df-0962b62d-93da-496a-a511-cf56bf501134')\"\n",
              "              title=\"Convert this dataframe to an interactive table.\"\n",
              "              style=\"display:none;\">\n",
              "        \n",
              "  <svg xmlns=\"http://www.w3.org/2000/svg\" height=\"24px\"viewBox=\"0 0 24 24\"\n",
              "       width=\"24px\">\n",
              "    <path d=\"M0 0h24v24H0V0z\" fill=\"none\"/>\n",
              "    <path d=\"M18.56 5.44l.94 2.06.94-2.06 2.06-.94-2.06-.94-.94-2.06-.94 2.06-2.06.94zm-11 1L8.5 8.5l.94-2.06 2.06-.94-2.06-.94L8.5 2.5l-.94 2.06-2.06.94zm10 10l.94 2.06.94-2.06 2.06-.94-2.06-.94-.94-2.06-.94 2.06-2.06.94z\"/><path d=\"M17.41 7.96l-1.37-1.37c-.4-.4-.92-.59-1.43-.59-.52 0-1.04.2-1.43.59L10.3 9.45l-7.72 7.72c-.78.78-.78 2.05 0 2.83L4 21.41c.39.39.9.59 1.41.59.51 0 1.02-.2 1.41-.59l7.78-7.78 2.81-2.81c.8-.78.8-2.07 0-2.86zM5.41 20L4 18.59l7.72-7.72 1.47 1.35L5.41 20z\"/>\n",
              "  </svg>\n",
              "      </button>\n",
              "      \n",
              "  <style>\n",
              "    .colab-df-container {\n",
              "      display:flex;\n",
              "      flex-wrap:wrap;\n",
              "      gap: 12px;\n",
              "    }\n",
              "\n",
              "    .colab-df-convert {\n",
              "      background-color: #E8F0FE;\n",
              "      border: none;\n",
              "      border-radius: 50%;\n",
              "      cursor: pointer;\n",
              "      display: none;\n",
              "      fill: #1967D2;\n",
              "      height: 32px;\n",
              "      padding: 0 0 0 0;\n",
              "      width: 32px;\n",
              "    }\n",
              "\n",
              "    .colab-df-convert:hover {\n",
              "      background-color: #E2EBFA;\n",
              "      box-shadow: 0px 1px 2px rgba(60, 64, 67, 0.3), 0px 1px 3px 1px rgba(60, 64, 67, 0.15);\n",
              "      fill: #174EA6;\n",
              "    }\n",
              "\n",
              "    [theme=dark] .colab-df-convert {\n",
              "      background-color: #3B4455;\n",
              "      fill: #D2E3FC;\n",
              "    }\n",
              "\n",
              "    [theme=dark] .colab-df-convert:hover {\n",
              "      background-color: #434B5C;\n",
              "      box-shadow: 0px 1px 3px 1px rgba(0, 0, 0, 0.15);\n",
              "      filter: drop-shadow(0px 1px 2px rgba(0, 0, 0, 0.3));\n",
              "      fill: #FFFFFF;\n",
              "    }\n",
              "  </style>\n",
              "\n",
              "      <script>\n",
              "        const buttonEl =\n",
              "          document.querySelector('#df-0962b62d-93da-496a-a511-cf56bf501134 button.colab-df-convert');\n",
              "        buttonEl.style.display =\n",
              "          google.colab.kernel.accessAllowed ? 'block' : 'none';\n",
              "\n",
              "        async function convertToInteractive(key) {\n",
              "          const element = document.querySelector('#df-0962b62d-93da-496a-a511-cf56bf501134');\n",
              "          const dataTable =\n",
              "            await google.colab.kernel.invokeFunction('convertToInteractive',\n",
              "                                                     [key], {});\n",
              "          if (!dataTable) return;\n",
              "\n",
              "          const docLinkHtml = 'Like what you see? Visit the ' +\n",
              "            '<a target=\"_blank\" href=https://colab.research.google.com/notebooks/data_table.ipynb>data table notebook</a>'\n",
              "            + ' to learn more about interactive tables.';\n",
              "          element.innerHTML = '';\n",
              "          dataTable['output_type'] = 'display_data';\n",
              "          await google.colab.output.renderOutput(dataTable, element);\n",
              "          const docLink = document.createElement('div');\n",
              "          docLink.innerHTML = docLinkHtml;\n",
              "          element.appendChild(docLink);\n",
              "        }\n",
              "      </script>\n",
              "    </div>\n",
              "  </div>\n",
              "  "
            ]
          },
          "metadata": {},
          "execution_count": 16
        }
      ],
      "source": [
        "tips.describe().round(3)"
      ]
    },
    {
      "cell_type": "markdown",
      "source": [
        "`.describe()` fa un anàlisi estadístic de l'Array, amb el recompte, la mitjana, el màxim i el mínim, etc. A més, se li pot demanar un número màxim de decimals, en aquest cas arrodonint al tercer decimal: `.round(3)`."
      ],
      "metadata": {
        "id": "JRx-fUmtZPZP"
      }
    },
    {
      "cell_type": "markdown",
      "metadata": {
        "id": "FktPY8n44M3R"
      },
      "source": [
        "####Mitja"
      ]
    },
    {
      "cell_type": "markdown",
      "metadata": {
        "id": "N6fKOVLq4M3S"
      },
      "source": [
        "  \n",
        "$%$\n",
        "\\begin{align*}\\bar{x}\\:=\\:\\frac{x_1\\:+\\:x_2\\:+\\:· · ·\\:+\\:x_n}{n}\\end{align*}   \n",
        "$%$"
      ]
    },
    {
      "cell_type": "code",
      "execution_count": null,
      "metadata": {
        "ExecuteTime": {
          "end_time": "2020-10-21T15:39:20.479123Z",
          "start_time": "2020-10-21T15:39:20.467156Z"
        },
        "id": "NSdKosvD4M3R",
        "colab": {
          "base_uri": "https://localhost:8080/"
        },
        "outputId": "48d92136-cc3a-4f9b-c6f7-f09fc5ddaa87"
      },
      "outputs": [
        {
          "output_type": "stream",
          "name": "stdout",
          "text": [
            "2.99827868852459\n",
            "2.998\n"
          ]
        }
      ],
      "source": [
        "print(tips.tip.mean())\n",
        "print(tips.tip.mean().round(3))"
      ]
    },
    {
      "cell_type": "markdown",
      "source": [
        "Podem veure que el valor de `.mean.round(3)` coincideix amb el donat més amunt a `.describe()`. Si no fem l'arrodoniment, podem veure tots els decimals de la mitja."
      ],
      "metadata": {
        "id": "EyLn2hczZrWQ"
      }
    },
    {
      "cell_type": "code",
      "execution_count": null,
      "metadata": {
        "ExecuteTime": {
          "end_time": "2021-01-20T16:52:45.550614Z",
          "start_time": "2021-01-20T16:52:45.280824Z"
        },
        "id": "vF_Po7Bu4M3B",
        "colab": {
          "base_uri": "https://localhost:8080/",
          "height": 295
        },
        "outputId": "72f1e97f-a126-4495-8fe6-c5e2d48115bc"
      },
      "outputs": [
        {
          "output_type": "display_data",
          "data": {
            "text/plain": [
              "<Figure size 432x288 with 1 Axes>"
            ],
            "image/png": "[encoded data removed]"
          },
          "metadata": {
            "needs_background": "light"
          }
        }
      ],
      "source": [
        "# Create data\n",
        "x = tips.total_bill\n",
        "y = tips.tip\n",
        "colors = 'Blue'\n",
        "area = np.pi*5\n",
        "\n",
        "plt.axis([0, 51, 0, 11])\n",
        "\n",
        "# Plot\n",
        "plt.scatter(x, y, s=area, c=colors, alpha=0.4, edgecolors='black')\n",
        "\n",
        "plt.title('Tips per bill')\n",
        "plt.ylabel('Tips')\n",
        "plt.xlabel('Bill')\n",
        "plt.show()"
      ]
    },
    {
      "cell_type": "markdown",
      "source": [
        "En aquest punt hem adaptat la gràfica i hem ajustat els eixos segons els valors màxims de `tips` i de `bill` per acotar lo millor possible els punts."
      ],
      "metadata": {
        "id": "kaH5PsfubC8B"
      }
    },
    {
      "cell_type": "markdown",
      "metadata": {
        "id": "BUcGgNjC4M3K"
      },
      "source": [
        "#### Matrix plots"
      ]
    },
    {
      "cell_type": "code",
      "execution_count": null,
      "metadata": {
        "ExecuteTime": {
          "end_time": "2021-01-20T17:22:39.511793Z",
          "start_time": "2021-01-20T17:22:26.306937Z"
        },
        "id": "uuqOJFrm4M3L",
        "colab": {
          "base_uri": "https://localhost:8080/",
          "height": 550
        },
        "outputId": "3d1dbe0f-3dd8-4176-a24c-83390f4f098d"
      },
      "outputs": [
        {
          "output_type": "display_data",
          "data": {
            "text/plain": [
              "<Figure size 540x540 with 12 Axes>"
            ],
            "image/png": "[encoded data removed]"
          },
          "metadata": {
            "needs_background": "light"
          }
        }
      ],
      "source": [
        "# Matrix Plot\n",
        "sns.pairplot(tips, diag_kind='hist', plot_kws={'alpha': 0.2})\n",
        "plt.show()"
      ]
    },
    {
      "cell_type": "markdown",
      "source": [
        "La funció `pairplot` ens mostra una relació entre les diferents columnes (no totes) de la base de dades tips. En aquest cas, ens mostra la relació entre les Arrays **size**, **tip** i **total_bill**. Només es veu una lleugera relació entre **total_bill** i **tip** (a més gran la factura, més propina) i una llegua relació entre el tamany de la taula i la factura i la propina (a més persones, major la factura i més propina)."
      ],
      "metadata": {
        "id": "9HLT2EW0gT-u"
      }
    },
    {
      "cell_type": "markdown",
      "metadata": {
        "id": "puW68egA4M3M"
      },
      "source": [
        "#### Histogrames"
      ]
    },
    {
      "cell_type": "code",
      "execution_count": null,
      "metadata": {
        "ExecuteTime": {
          "end_time": "2021-01-20T17:25:00.214525Z",
          "start_time": "2021-01-20T17:24:59.868449Z"
        },
        "id": "SniBuJGp4M3N",
        "colab": {
          "base_uri": "https://localhost:8080/",
          "height": 295
        },
        "outputId": "0eaf5db1-f20f-450b-f1b0-b8afc3fcba11"
      },
      "outputs": [
        {
          "output_type": "display_data",
          "data": {
            "text/plain": [
              "<Figure size 432x288 with 1 Axes>"
            ],
            "image/png": "[encoded data removed]"
          },
          "metadata": {
            "needs_background": "light"
          }
        }
      ],
      "source": [
        "tips.hist(['tip'], bins=10)\n",
        "plt.title('Freqüència de les propines')\n",
        "plt.ylabel('Freqüència')\n",
        "plt.xlabel('Propines en $')\n",
        "plt.show()"
      ]
    },
    {
      "cell_type": "markdown",
      "source": [
        "Es pot veure a l'histograma com les propines més comuns estan al voltant dels 2 $. Com que té una cola llarga cap a la dreta, es defineix com a *Right Skewed*. \n",
        "\n",
        "Com que la distribució només té un màxim, es considera de tipus modal."
      ],
      "metadata": {
        "id": "UzyVRl4RjA8b"
      }
    },
    {
      "cell_type": "markdown",
      "metadata": {
        "id": "tXmCKXe94M3T"
      },
      "source": [
        "<div class=\"alert alert-warning alert-warning\"><b><u>Population Mean</u></b>\n",
        "\n",
        "The <span style=color:blue><b><u>Population mean</u></b></span> has a special label :  <span style=color:blue>$\\mu$</span>. The symbol <span style=color:blue>$\\mu$</span> is the $Greek$ letter <span style=color:blue>$mu$</span> and represents the <span style=color:blue>average/mean of all observations in the <b>Population</b></span>.   \n",
        "$%$   \n",
        "Sometimes a subscript, such as <span style=color:blue><b>$_x$</b></span>, is used to represent which variable the <span style=color:blue><b>population mean</b></span> refers to, e.g. <span style=color:blue><b>$\\mu_x$</b></span>\n",
        "</div>"
      ]
    },
    {
      "cell_type": "markdown",
      "metadata": {
        "id": "nPdai3PM4M3U"
      },
      "source": [
        "## <span style=color:darkgreen>Variance and Standard Deviation</span>"
      ]
    },
    {
      "cell_type": "code",
      "execution_count": null,
      "metadata": {
        "ExecuteTime": {
          "end_time": "2020-10-21T15:39:20.490094Z",
          "start_time": "2020-10-21T15:39:20.482114Z"
        },
        "id": "YesGElD54M3U",
        "colab": {
          "base_uri": "https://localhost:8080/"
        },
        "outputId": "67d83d26-ea84-4be7-b2a3-ba9e116206b3"
      },
      "outputs": [
        {
          "output_type": "execute_result",
          "data": {
            "text/plain": [
              "1.6146404995234076"
            ]
          },
          "metadata": {},
          "execution_count": 49
        }
      ],
      "source": [
        "tips.tip.mean() - tips.tip.std()"
      ]
    },
    {
      "cell_type": "markdown",
      "metadata": {
        "id": "GOIyLDq-4M3U"
      },
      "source": [
        "### <span style=color:darkred>Variance</span>"
      ]
    },
    {
      "cell_type": "markdown",
      "metadata": {
        "id": "1GriSEoS4M3V"
      },
      "source": [
        "The <span style=color:blue><b>mean</b></span> was introduced as a method to describe the <span style=color:blue>center of a data set</span>, but the <span style=color:blue><b><u>variability in the data</u></b></span> is also <b>important</b>.   \n",
        "\n",
        "We introduce <span style=color:blue><b><u>two measures of variability</u></b></span>: the <span style=color:blue><b><u>Variance</u></b></span> and the <span style=color:blue><b><u>Standard Deviation</u></b></span>. Both are very useful in data analysis.   \n",
        "\n",
        "The <span style=color:blue><b>Standard Deviation</b></span> describes <b>how far away</b> the typical <b>observation</b> is from the <span style=color:blue>mean</span>."
      ]
    },
    {
      "cell_type": "markdown",
      "metadata": {
        "id": "2WqM2VqU4M3V"
      },
      "source": [
        "We call the <span style=color:blue><em>distance of an observation from its mean</em></span> its <span style=color:blue><b><u>Deviation</u></b></span>. \n",
        "\n",
        "Below are the <b>deviations</b> for the 1st, 2nd, 3rd, and 50th observations in the <b>num_char</b> variable. For computational convenience, the number of characters is listed in the thousands and rounded to the first decimal."
      ]
    },
    {
      "cell_type": "code",
      "execution_count": null,
      "metadata": {
        "ExecuteTime": {
          "end_time": "2020-10-21T15:39:20.501064Z",
          "start_time": "2020-10-21T15:39:20.493086Z"
        },
        "id": "V3D95rxv4M3W",
        "colab": {
          "base_uri": "https://localhost:8080/"
        },
        "outputId": "d1e8026e-73b0-4807-fed4-0bc303040493"
      },
      "outputs": [
        {
          "output_type": "execute_result",
          "data": {
            "text/plain": [
              "1    1.66\n",
              "Name: tip, dtype: float64"
            ]
          },
          "metadata": {},
          "execution_count": 41
        }
      ],
      "source": [
        "tips.tip.iloc[[1], ]"
      ]
    },
    {
      "cell_type": "markdown",
      "metadata": {
        "id": "f1w5AW214M3W"
      },
      "source": [
        "\\begin{align*}x_1\\:−\\:\\bar{x} = 21.7 − 11.6 = 10.1\\end{align*}\n",
        "\\begin{align*}x_2\\:−\\:\\bar{x} =\\hspace{2.5mm}7.0 − 11.6 = −4.6\\end{align*}\n",
        "\\begin{align*}x_3\\:−\\:\\bar{x} =\\hspace{2.5mm}0.6 − 11.6 = −11.0\\end{align*}\n",
        "\\begin{align*}.\\end{align*}\n",
        "\\begin{align*}.\\end{align*}\n",
        "\\begin{align*}.\\end{align*}\n",
        "\\begin{align*}x_{50} − \\bar{x} = 15.8 − 11.6 = 4.2\\end{align*}"
      ]
    },
    {
      "cell_type": "markdown",
      "metadata": {
        "id": "BeYYMUwz4M3W"
      },
      "source": [
        "If we **square** these <span style=color:blue><b>deviation</b></span> and then take an **average**, the result is about equal to the <span style=color:blue><b>sample variance</b></span>, denoted by <span style=color:blue><b>$s^2$</b></span>:"
      ]
    },
    {
      "cell_type": "markdown",
      "metadata": {
        "id": "LhzT924q4M3X"
      },
      "source": [
        "\\begin{align*}s^2\\:=\\:\\frac{10.1^2 + (−4.6)^2 + (−11.0)^2 + · · · + 4.2^2}{50 − 1} = 172,44\\end{align*}"
      ]
    },
    {
      "cell_type": "markdown",
      "metadata": {
        "id": "oK2d8scZ4M3X"
      },
      "source": [
        "<div class=\"alert alert-warning alert-warning\"><b><u>Sample Variance $s^2$</u></b>   \n",
        "\n",
        "We divide by $n\\:−\\:1$, rather than dividing by $n$, when computing the <span style=color:blue><b>Variance</b></span>.   \n",
        "$%$   \n",
        "<span style=color:blue>squaring the deviations</span> does two things: \n",
        "\n",
        "- First, it <span style=color:blue>makes large values much larger</span>, seen by comparing $10.1^2$, $(−4.6)^2$, $(−11.0)^2$, and $4.2^2$. \n",
        "- Second, it <span style=color:blue>gets rid of any negative signs</span>.   \n",
        "$%$   \n",
        "The <b>variance</b> is roughly the <span style=color:blue>average squared distance</span> from the <b>mean</b>.\n",
        "</div>"
      ]
    },
    {
      "cell_type": "markdown",
      "metadata": {
        "id": "xPiSWdNH4M3X"
      },
      "source": [
        "### <span style=color:darkred>Standard Deviation</span>"
      ]
    },
    {
      "cell_type": "markdown",
      "metadata": {
        "id": "x28WprEL4M3Y"
      },
      "source": [
        "<div class=\"alert alert-warning alert-warning\"><b><u>Standard Deviation</u></b>   \n",
        "\n",
        "The <b>Standard Deviation</b> is defined as the <b>square root</b> of the <span style=color:blue><b>Variance</b></span> :   \n",
        "$%$   \n",
        "\\begin{align*}s = \\sqrt{172.44} = 13.13\\end{align*}   \n",
        "$%$   \n",
        "The <b>Standard Deviation</b> is useful when considering how close the data are to the <b>Mean</b>.   \n",
        "$%$   \n",
        "Formulas and methods used to compute the <b>Variance</b> and <b>Standard Deviation</b> for a <b>Population</b> are similar to those used for a <b>sample</b><i> (The only difference is that the <b>Population Variance</b> has a division by $n$ instead of $n - 1$ )</i>.   \n",
        "$%$   \n",
        "However, like the <b>Mean</b>, the <b>Population</b> values have special symbols : \n",
        "- $\\sigma^2$ for the <b>Variance</b> and \n",
        "- $\\sigma$ for the <b>Standard Deviation</b>. \n",
        "\n",
        "The symbol $\\sigma$ is the $Greek$ letter $sigma$.\n",
        "</div>"
      ]
    },
    {
      "cell_type": "code",
      "execution_count": null,
      "metadata": {
        "ExecuteTime": {
          "end_time": "2021-01-20T17:27:42.268974Z",
          "start_time": "2021-01-20T17:27:42.261994Z"
        },
        "id": "3WsQNYN14M3Y",
        "colab": {
          "base_uri": "https://localhost:8080/"
        },
        "outputId": "548837b0-16ac-4868-af94-7f9f39ec45d4"
      },
      "outputs": [
        {
          "output_type": "execute_result",
          "data": {
            "text/plain": [
              "1.384"
            ]
          },
          "metadata": {},
          "execution_count": 42
        }
      ],
      "source": [
        "tips.tip.std().round(3)"
      ]
    },
    {
      "cell_type": "markdown",
      "metadata": {
        "id": "WYLu8WXZ4M3Y"
      },
      "source": [
        "<span style=color:blue>Standard Deviation</span> describes <span style=color:blue>Variability</span>, so focus on the conceptual meaning of the <span style=color:blue>Standard Deviation</span> as a descriptor of <span style=color:blue>Variability</span> rather than the formulas. \n",
        "\n",
        "Usually <b>70%</b> of the data will be within <span style=color:blue>one standard deviation of the mean</span> and about <b>95%</b> will be within <span style=color:blue>two standard deviations</span> two standard deviations. However, these <b>percentages are not strict rules</b>."
      ]
    },
    {
      "cell_type": "markdown",
      "metadata": {
        "solution2": "hidden",
        "solution2_first": true,
        "id": "alob0ybi4M3a"
      },
      "source": [
        "<span style=color:red><b><u>EXERCISE - 3.7</u></b></span> \n",
        "\n",
        "Describe the <b>distribution</b> of the <b>num_char</b> variable using the histogram display above. \n",
        "\n",
        "The description should incorporate the center, variability, and shape of the distribution, and it should also be placed in context: the <b>number of characters</b> in emails. Also note any especially <b>unusual cases</b>."
      ]
    },
    {
      "cell_type": "markdown",
      "metadata": {
        "solution2": "hidden",
        "id": "Az39c9xJ4M3a"
      },
      "source": [
        "<span style=color:green><b><u>SOLUTION - 3.7</u></b></span> \n",
        "\n",
        "The distribution of email character counts is <b>unimodal</b> and very <b>strongly skewed to the high end</b>. Many of the counts fall near the <b>Mean at 11,6</b>, and most fall within <b>one Standard Deviation (13,130)</b> of the <b>mean</b>. There is <b>one exceptionally long email</b> with about 65,000 characters."
      ]
    },
    {
      "cell_type": "code",
      "execution_count": null,
      "metadata": {
        "ExecuteTime": {
          "end_time": "2020-10-21T15:39:20.827192Z",
          "start_time": "2020-10-21T15:39:20.820211Z"
        },
        "id": "pQlYUGLd4M3b"
      },
      "outputs": [],
      "source": [
        "dbe.num_char.std().round(2)"
      ]
    },
    {
      "cell_type": "markdown",
      "metadata": {
        "id": "LD46HDhc4M3b"
      },
      "source": [
        "We will use the <span style=color:blue><b>Variance</b></span> and <span style=color:blue><b>Standard Deviation</b></span> to <b>assess how close</b> the <span style=color:blue>Sample Mean ($\\bar{x}$)</span> is to the <span style=color:blue>Population Mean ($\\mu$)</span>."
      ]
    },
    {
      "cell_type": "code",
      "execution_count": null,
      "metadata": {
        "ExecuteTime": {
          "end_time": "2020-10-21T15:39:22.386022Z",
          "start_time": "2020-10-21T15:39:20.830185Z"
        },
        "id": "J6IbTjXj4M3c"
      },
      "outputs": [],
      "source": [
        "fig = plt.figure(figsize=(10,8))\n",
        "\n",
        "ax1 = fig.add_subplot(2, 2, 1)\n",
        "\n",
        "ax1.hist(county['multiunit'], bins=25)\n",
        "plt.title('County - 2010 Population')\n",
        "plt.ylabel('Frequency')\n",
        "plt.xlabel('multi unit (%)')\n",
        "\n",
        "ax2 = fig.add_subplot(2, 2, 2)\n",
        "\n",
        "ax2.hist(county['income'], bins=25)\n",
        "\n",
        "plt.title('2010 County Population')\n",
        "plt.ylabel('Frequency')\n",
        "plt.xlabel('Per Capita Income')\n",
        "\n",
        "ax3 = fig.add_subplot(2, 2, 3)\n",
        "\n",
        "ax3.hist(county['homeownership'], bins=25)\n",
        "plt.title('2010 County Population')\n",
        "plt.ylabel('Frequency')\n",
        "plt.xlabel('Homeownership (%)')\n",
        "\n",
        "ax4 = fig.add_subplot(2, 2, 4)\n",
        "\n",
        "ax4.hist(county['med_income'], bins=25)\n",
        "\n",
        "plt.title('2010 County Population')\n",
        "plt.ylabel('Frequency')\n",
        "plt.xlabel('Median Household Imcome')\n",
        "\n",
        "plt.tight_layout()"
      ]
    },
    {
      "cell_type": "code",
      "execution_count": null,
      "metadata": {
        "ExecuteTime": {
          "end_time": "2020-10-21T15:39:24.384675Z",
          "start_time": "2020-10-21T15:39:22.389014Z"
        },
        "id": "BkijK0rY4M3d"
      },
      "outputs": [],
      "source": [
        "fig = plt.figure(figsize=(20,5))\n",
        "\n",
        "ax1 = fig.add_subplot(1, 4, 1)\n",
        "\n",
        "ax1.hist(county['multiunit'], bins=25)\n",
        "plt.title('2010 County Population')\n",
        "plt.ylabel('Frequency')\n",
        "plt.xlabel('multi unit (%)')\n",
        "\n",
        "ax2 = fig.add_subplot(1, 4, 2)\n",
        "\n",
        "ax2.hist(county['income'], bins=25)\n",
        "\n",
        "plt.title('2010 County Population')\n",
        "plt.ylabel('Frequency')\n",
        "plt.xlabel('Per Capita Income')\n",
        "\n",
        "ax3 = fig.add_subplot(1, 4, 3)\n",
        "\n",
        "ax3.hist(county['homeownership'], bins=25)\n",
        "plt.title('2010 County Population')\n",
        "plt.ylabel('Frequency')\n",
        "plt.xlabel('Homeownership (%)')\n",
        "\n",
        "ax4 = fig.add_subplot(1, 4, 4)\n",
        "\n",
        "ax4.hist(county['med_income'], bins=25)\n",
        "\n",
        "plt.title('2010 County Population')\n",
        "plt.ylabel('Frequency')\n",
        "plt.xlabel('Median Household Imcome')\n",
        "\n",
        "# plt.tight_layout(pad=0.4, w_pad=0.5, h_pad=1.0)\n",
        "plt.tight_layout()"
      ]
    },
    {
      "cell_type": "code",
      "execution_count": null,
      "metadata": {
        "ExecuteTime": {
          "end_time": "2020-10-21T15:39:24.573171Z",
          "start_time": "2020-10-21T15:39:24.388664Z"
        },
        "id": "RqEma6Wp4M3d"
      },
      "outputs": [],
      "source": [
        "dbe.describe().round(3)"
      ]
    },
    {
      "cell_type": "markdown",
      "metadata": {
        "id": "1QqSfD5u4M3e"
      },
      "source": [
        "## <span style=color:darkgreen>BOX PLOTS</span>"
      ]
    },
    {
      "cell_type": "markdown",
      "metadata": {
        "id": "Th65fCup4M3e"
      },
      "source": [
        "A <span style=color:blue>Box Plot</span> summarizes a dataset using <span style=color:blue><b><i>five statistics</i></b></span> while also plotting <span style=color:blue>unusual observations - <b>Anomalies or Outliers</b></span>."
      ]
    },
    {
      "cell_type": "markdown",
      "metadata": {
        "id": "rALmGyJC4M3f"
      },
      "source": [
        "### <span style=color:darkred>Quartiles, and the Median</span>"
      ]
    },
    {
      "cell_type": "code",
      "execution_count": null,
      "metadata": {
        "ExecuteTime": {
          "end_time": "2021-01-20T17:46:13.044511Z",
          "start_time": "2021-01-20T17:46:13.038527Z"
        },
        "id": "gPq4oI7t4M3f"
      },
      "outputs": [],
      "source": [
        "dbe.shape"
      ]
    },
    {
      "cell_type": "code",
      "execution_count": null,
      "metadata": {
        "ExecuteTime": {
          "end_time": "2021-01-20T17:46:14.189209Z",
          "start_time": "2021-01-20T17:46:14.100447Z"
        },
        "id": "2hgbu_o34M3f"
      },
      "outputs": [],
      "source": [
        "dbe.describe()"
      ]
    },
    {
      "cell_type": "code",
      "execution_count": null,
      "metadata": {
        "ExecuteTime": {
          "end_time": "2021-01-20T17:46:22.370118Z",
          "start_time": "2021-01-20T17:46:22.357153Z"
        },
        "id": "uPpggpuA4M3f"
      },
      "outputs": [],
      "source": [
        "(dbe['num_char']).describe()"
      ]
    },
    {
      "cell_type": "markdown",
      "metadata": {
        "id": "Spnaryxm4M3g"
      },
      "source": [
        "The median (6,890), splits the data into the bottom 50% and the top 50%, marked in the dot plot by horizontal dashes and open circles, respectively."
      ]
    },
    {
      "cell_type": "code",
      "execution_count": null,
      "metadata": {
        "ExecuteTime": {
          "end_time": "2021-01-20T17:46:30.071818Z",
          "start_time": "2021-01-20T17:46:30.065834Z"
        },
        "id": "i8Jpzjeg4M3g"
      },
      "outputs": [],
      "source": [
        "(dbe['num_char']).median().round(3)"
      ]
    },
    {
      "cell_type": "markdown",
      "metadata": {
        "id": "HE6oWz_b4M3g"
      },
      "source": [
        "The first step in building a <span style=color:blue><b>box plot</b></span> is drawing a dark line denoting the <span style=color:blue><b>median</b></span>, which <b>splits</b> the data in half. <b>50%</b> of the data falling below the <span style=color:blue><b>median</b></span> and other <b>50%</b> falling above the <span style=color:blue><b>median</b></span>.\n",
        "\n",
        "There are $50$ character counts in the **dataset** (an even number) so the data are perfectly split into two groups of $25$.\n",
        "We take the <span style=color:blue><b>median</b></span> in this case to be the <span style=color:blue><b>average</b></span> of the two observations closest to the 50th percentile:   \n",
        "\n",
        "$(6,768+7,012)/2 = 6,890$. \n",
        "\n",
        "When there are an odd number of observations, there will be exactly one observation that splits the data into two halves, and in such a case that observation is the <span style=color:blue><b>median</b></span> (no average needed)."
      ]
    },
    {
      "cell_type": "code",
      "execution_count": null,
      "metadata": {
        "ExecuteTime": {
          "end_time": "2021-01-20T17:46:35.025472Z",
          "start_time": "2021-01-20T17:46:34.881855Z"
        },
        "scrolled": true,
        "id": "5tRotd-84M3i"
      },
      "outputs": [],
      "source": [
        "sns.set(style=\"whitegrid\")\n",
        "ax = sns.boxplot(x=dbe[\"num_char\"], color='lightblue', fliersize=5,  orient='v', linewidth=1 , width=0.3)"
      ]
    },
    {
      "cell_type": "markdown",
      "metadata": {
        "id": "NHzfIieQ4M3j"
      },
      "source": [
        "<div class=\"alert alert-warning alert-warning\"><b><u>Median</u></b>\n",
        "\n",
        "If the data are <b>ordered from smallest to largest</b>, the <b>median</b> is the <b><u>observation</u></b> right in the <b>middle</b>.\n",
        "\n",
        "If there are an even number of observations, there will be two values in the middle, and the <b>median</b> is taken as their average.</div>"
      ]
    },
    {
      "cell_type": "markdown",
      "metadata": {
        "id": "Ja4k_Rc44M3k"
      },
      "source": [
        "The second step in building a box plot is drawing a rectangle to represent the middle $50%$ of the data. The total length of the box, is called the <span style=color:blue><b>interquartile range (IQR)</b></span>. It, like the <span style=color:blue><b>Standard Deviation</b></span>, is a measure of <b>Variability</b> in data. The <span style=color:red>more variable the data</span>, the larger the <span style=color:blue><b>Standard Deviation</b></span> and <span style=color:blue><b>IQR</b></span>.\n",
        "\n",
        "The <b>two boundaries</b> of the box are called the <span style=color:blue><b>first quartile</b></span> (the $25^{th}$ percentile),  i.e. $25%$ of the data fall below this value and the <span style=color:blue><b>third quartile</b></span> (the $75^{th}$ percentile), and these are often labeled $Q1$ and $Q3$, respectively."
      ]
    },
    {
      "cell_type": "markdown",
      "metadata": {
        "id": "1-UwuorS4M3k"
      },
      "source": [
        "<div class=\"alert alert-warning alert-warning\"><b><u>Interquartile range (IQR)</u></b>\n",
        "\n",
        "The IQR is the length of the box in a box plot. It is computed as\n",
        "\n",
        "$$IQR = Q3 − Q1$$\n",
        "\n",
        "where $Q1$ and $Q3$ are the $25^{th}$ and $75^{th}$ percentiles.</div>"
      ]
    },
    {
      "cell_type": "code",
      "execution_count": null,
      "metadata": {
        "ExecuteTime": {
          "end_time": "2021-01-20T17:46:40.918128Z",
          "start_time": "2021-01-20T17:46:40.772515Z"
        },
        "id": "m3Rp1HT14M3k"
      },
      "outputs": [],
      "source": [
        "sns.stripplot(x=dbe[\"num_char\"], orient='v', color='darkblue')"
      ]
    },
    {
      "cell_type": "code",
      "execution_count": null,
      "metadata": {
        "ExecuteTime": {
          "end_time": "2021-01-20T17:46:44.546946Z",
          "start_time": "2021-01-20T17:46:44.402325Z"
        },
        "id": "TaR7TJU94M3k"
      },
      "outputs": [],
      "source": [
        "ax = sns.boxplot(y=\"num_char\", data=dbe,  color='lightblue', fliersize=5,  orient='v', linewidth=1 , width=0.3)\n",
        "ax = sns.stripplot(y=dbe[\"num_char\"], orient='v', color='darkblue')"
      ]
    },
    {
      "cell_type": "code",
      "execution_count": null,
      "metadata": {
        "ExecuteTime": {
          "end_time": "2021-01-20T17:46:47.738552Z",
          "start_time": "2021-01-20T17:46:47.729609Z"
        },
        "id": "9QgGlYIV4M3l"
      },
      "outputs": [],
      "source": [
        "dbe.num_char"
      ]
    },
    {
      "cell_type": "code",
      "execution_count": null,
      "metadata": {
        "ExecuteTime": {
          "end_time": "2021-01-20T17:46:53.036905Z",
          "start_time": "2021-01-20T17:46:52.813505Z"
        },
        "id": "RaWk3Yvz4M3l"
      },
      "outputs": [],
      "source": [
        "sns.set(style=\"whitegrid\")\n",
        "ax = sns.boxplot(x=dbe[\"num_char\"], color='lightblue', fliersize=5,  orient='v', linewidth=1 , width=0.3)"
      ]
    },
    {
      "cell_type": "code",
      "execution_count": null,
      "metadata": {
        "ExecuteTime": {
          "end_time": "2021-01-20T17:46:54.877950Z",
          "start_time": "2021-01-20T17:46:54.720373Z"
        },
        "id": "cexTP-5x4M3l"
      },
      "outputs": [],
      "source": [
        "sns.swarmplot(x=dbe[\"num_char\"], orient='v', color='darkblue')"
      ]
    },
    {
      "cell_type": "code",
      "execution_count": null,
      "metadata": {
        "ExecuteTime": {
          "end_time": "2021-01-20T17:46:59.304305Z",
          "start_time": "2021-01-20T17:46:59.152711Z"
        },
        "id": "H2A2_XLv4M3m"
      },
      "outputs": [],
      "source": [
        "ax = sns.boxplot(y=\"num_char\", data=dbe,  color='lightblue', fliersize=5,  orient='v', linewidth=1 , width=0.3)\n",
        "ax = sns.swarmplot(y=\"num_char\", data=dbe, color=\"darkblue\", orient=\"v\", size=4)"
      ]
    },
    {
      "cell_type": "markdown",
      "metadata": {
        "solution2": "hidden",
        "solution2_first": true,
        "id": "ksK1y3i54M3m"
      },
      "source": [
        "<span style=color:red><b><u>EXERCISE - 3.8</u></b></span> \n",
        "\n",
        "1. What percent of the data fall between Q1 and the median?\n",
        "2. What percent is between the median and Q3?"
      ]
    },
    {
      "cell_type": "markdown",
      "metadata": {
        "solution2": "hidden",
        "id": "mbnQ46CA4M3n"
      },
      "source": [
        "<span style=color:green><b><u>SOLUTION - 3.8</u></b></span> \n",
        "\n",
        "1. Since $Q1$ and $Q3$ capture the middle **50%** of the data and the <span style=color:blue>\n",
        "median</span> splits the data in the <span style=color:blue>middle</span>,\n",
        "2. **25%** of the data fall between $Q1$ and the <span style=color:blue>\n",
        "median</span>, and another **25%** falls between the <span style=color:blue>\n",
        "median</span> and $Q3$."
      ]
    },
    {
      "cell_type": "markdown",
      "metadata": {
        "id": "00Cg0PrM4M3n"
      },
      "source": [
        "Extending out from the box, the <span style=color:blue>whiskers</span> attempt to capture the data outside of the box, however, their reach is never allowed to be more than <span style=color:blue><b>$1.5\\hspace{2mm}x\\hspace{2mm}IQR$</b></span>"
      ]
    },
    {
      "cell_type": "markdown",
      "metadata": {
        "id": "kgtTQktg4M3n"
      },
      "source": [
        "They capture everything within this reach. The <span style=color:blue><b><u>upper whisker</u></b></span> does not extend to the last three points, which is beyond $Q3\\hspace{2mm}+\\hspace{2mm}1.5\\hspace{2mm}x\\hspace{2mm}IQR$, and so it extends only to the last point below this limit. \n",
        "\n",
        "The <span style=color:blue><b><u>lower whisker</u></b></span> stops at the lowest value, **33**, since there is no additional data to reach; the <span style=color:blue><b><u>lower whisker’s limit</u></b></span> is not shown in the figure because the plot does not extend down to $Q1\\hspace{2mm}-\\hspace{2mm}1.5\\hspace{2mm}x\\hspace{2mm}IQR$. In a sense, the box is like the body of the box plot and the <span style=color:blue>whiskers</span> are like its arms trying to reach the rest of the data."
      ]
    },
    {
      "cell_type": "markdown",
      "metadata": {
        "id": "vAS8D1oN4M3n"
      },
      "source": [
        "Any observation that lies beyond the <span style=color:blue>whiskers</span> is labeled with a <span style=color:blue>dot</span>. The purpose of labeling these points – instead of just extending the whiskers to the minimum and maximum observed values – is to help identify any observations that appear to be <span style=color:blue>unusually</span> distant from the rest of the data. <span style=color:blue>Unusually</span> distant observations are called <span style=color:blue><b><u>Outliers</u></b></span>. \n",
        "\n",
        "In this case, it would be reasonable to classify the emails with character counts of 41,623, 42,793, and 64,401 as <span style=color:blue>outliers</span> since they are numerically distant from most of the data."
      ]
    },
    {
      "cell_type": "markdown",
      "metadata": {
        "id": "D-l5EQhi4M3o"
      },
      "source": [
        "<div class=\"alert alert-warning alert-warning\"><b><u>Outlier</u></b>\n",
        "\n",
        "An **outlier** is an *observation* that appears **extreme** relative to the rest of the **data**.   \n",
        "\n",
        "$%$\n",
        "\n",
        "<b><u>Why it is important to look for outliers</u></b>\n",
        "\n",
        "Examination of data for possible **outliers** serves many useful purposes, including :\n",
        "\n",
        "1. Identifying strong **skew** in the distribution.\n",
        "2. Identifying data collection or **entry errors**. For instance, we re-examined the \n",
        "    email purported to have 64,401 characters to ensure this value was accurate.\n",
        "3. Providing **insight** into interesting **properties** of the **data**.\n",
        "</div>"
      ]
    },
    {
      "cell_type": "markdown",
      "metadata": {
        "solution2": "hidden",
        "solution2_first": true,
        "id": "nwKGjvjE4M3p"
      },
      "source": [
        "<span style=color:red><b><u>EXERCISE - 3.9</u></b></span> \n",
        "\n",
        "estimate the following values for **num_char** in the $email50$ dataset: \n",
        "\n",
        "a).- $Q1$,   \n",
        "b).- $Q3$, and    \n",
        "c).- $IQR$"
      ]
    },
    {
      "cell_type": "markdown",
      "metadata": {
        "solution2": "hidden",
        "id": "0rn_VAT64M3p"
      },
      "source": [
        "<span style=color:green><b><u>SOLUTION - 3.9</u></b></span> \n",
        "\n",
        "These visual estimates will vary a little from one person to the next: Q1 = 3,000, Q3 = 15,000, IQR = Q3 - Q1 = 12,000. \n",
        "\n",
        "(The true values: Q1 = 2,536, Q3 = 15,411, IQR = 12,875.)"
      ]
    },
    {
      "cell_type": "markdown",
      "metadata": {
        "ExecuteTime": {
          "end_time": "2021-02-03T09:41:38.793827Z",
          "start_time": "2021-02-03T09:41:38.790832Z"
        },
        "id": "iddaZMIy4M3p"
      },
      "source": [
        "## <span style=color:red>Ejercicio Practico -- Scatter Plots</span>"
      ]
    },
    {
      "cell_type": "markdown",
      "metadata": {
        "id": "zLhNBBWD4M3p"
      },
      "source": [
        "<span style=color:blue>Scatter Plots o Gráficos de Puntos</span> pueden ser muy utiles para examinar las relationes existentes entre dos series de datos uni-dimensionales. \n",
        "\n",
        "Usaremos el dataset <span style=color:darkred>tips</span>, selecionaremos unas cuantas variables. "
      ]
    },
    {
      "cell_type": "code",
      "execution_count": null,
      "metadata": {
        "ExecuteTime": {
          "end_time": "2021-02-03T10:44:23.026751Z",
          "start_time": "2021-02-03T10:44:22.986904Z"
        },
        "id": "fL8pU_Kf4M3q"
      },
      "outputs": [],
      "source": [
        "tips = pd.read_csv('C:\\\\Users\\INTEL\\\\seaborn-data\\\\tips.csv', sep = ',', encoding = 'utf-8')\n",
        "tips.head()"
      ]
    },
    {
      "cell_type": "code",
      "execution_count": null,
      "metadata": {
        "ExecuteTime": {
          "end_time": "2021-02-03T11:03:20.033469Z",
          "start_time": "2021-02-03T11:03:20.026519Z"
        },
        "id": "VAxpG7Mu4M3q"
      },
      "outputs": [],
      "source": [
        "tips.shape"
      ]
    },
    {
      "cell_type": "code",
      "execution_count": null,
      "metadata": {
        "ExecuteTime": {
          "end_time": "2021-02-03T13:44:38.408684Z",
          "start_time": "2021-02-03T13:44:38.403719Z"
        },
        "id": "zfUEXd824M3r"
      },
      "outputs": [],
      "source": [
        "tips.ndim"
      ]
    },
    {
      "cell_type": "code",
      "execution_count": null,
      "metadata": {
        "ExecuteTime": {
          "end_time": "2021-02-03T11:03:56.442591Z",
          "start_time": "2021-02-03T11:03:56.436940Z"
        },
        "id": "GGneGRNm4M3r"
      },
      "outputs": [],
      "source": [
        "tips.columns"
      ]
    },
    {
      "cell_type": "code",
      "execution_count": null,
      "metadata": {
        "ExecuteTime": {
          "end_time": "2021-02-03T13:43:40.448957Z",
          "start_time": "2021-02-03T13:43:40.439982Z"
        },
        "id": "o8fHkbFd4M3r"
      },
      "outputs": [],
      "source": [
        "tips.dtypes"
      ]
    },
    {
      "cell_type": "code",
      "execution_count": null,
      "metadata": {
        "ExecuteTime": {
          "end_time": "2021-02-03T11:05:04.066575Z",
          "start_time": "2021-02-03T11:05:04.037650Z"
        },
        "id": "QaoCw1T_4M3s"
      },
      "outputs": [],
      "source": [
        "tips['tip_pct'] = round((tips['tip'] / (tips['total_bill'] - tips['tip']))*100, 2)\n",
        "tips.head()"
      ]
    },
    {
      "cell_type": "code",
      "execution_count": null,
      "metadata": {
        "ExecuteTime": {
          "end_time": "2021-02-03T11:07:34.619112Z",
          "start_time": "2021-02-03T11:07:34.048334Z"
        },
        "id": "cYlbvmU74M3t"
      },
      "outputs": [],
      "source": [
        "sns.barplot(x='tip_pct', y='day', data=tips, orient=\"h\")\n",
        "plt.show()"
      ]
    },
    {
      "cell_type": "code",
      "execution_count": null,
      "metadata": {
        "ExecuteTime": {
          "end_time": "2021-02-03T11:08:24.788942Z",
          "start_time": "2021-02-03T11:08:24.084824Z"
        },
        "id": "dfoONaKa4M3t"
      },
      "outputs": [],
      "source": [
        "sns.barplot(x='tip_pct', y='day', hue='time', data=tips, orient='h')\n",
        "plt.show()\n",
        "sns.set(style=\"darkgrid\")"
      ]
    },
    {
      "cell_type": "code",
      "execution_count": null,
      "metadata": {
        "ExecuteTime": {
          "end_time": "2021-02-03T11:10:00.119625Z",
          "start_time": "2021-02-03T11:10:00.078734Z"
        },
        "id": "2Z2uTEMp4M3t"
      },
      "outputs": [],
      "source": [
        "tips.describe()"
      ]
    },
    {
      "cell_type": "code",
      "execution_count": null,
      "metadata": {
        "ExecuteTime": {
          "end_time": "2021-02-03T11:13:07.182194Z",
          "start_time": "2021-02-03T11:13:07.129549Z"
        },
        "id": "GqlCpLz24M3u"
      },
      "outputs": [],
      "source": [
        "round(tips.describe(include='all'), 3)"
      ]
    },
    {
      "cell_type": "code",
      "execution_count": null,
      "metadata": {
        "ExecuteTime": {
          "end_time": "2021-02-03T11:26:48.896016Z",
          "start_time": "2021-02-03T11:26:48.886044Z"
        },
        "id": "sjh13YF-4M3u"
      },
      "outputs": [],
      "source": [
        "tips.isnull().sum()/len(tips)"
      ]
    },
    {
      "cell_type": "code",
      "execution_count": null,
      "metadata": {
        "ExecuteTime": {
          "end_time": "2021-02-03T11:30:50.558099Z",
          "start_time": "2021-02-03T11:30:50.546131Z"
        },
        "id": "NKIES4zK4M3u"
      },
      "outputs": [],
      "source": [
        "round((tips['tip']).describe(), 3)"
      ]
    },
    {
      "cell_type": "code",
      "execution_count": null,
      "metadata": {
        "ExecuteTime": {
          "end_time": "2021-02-03T11:32:52.326345Z",
          "start_time": "2021-02-03T11:32:52.319364Z"
        },
        "id": "LTbdMy6d4M3v"
      },
      "outputs": [],
      "source": [
        "(tips['tip']).median().round(3)"
      ]
    },
    {
      "cell_type": "code",
      "execution_count": null,
      "metadata": {
        "ExecuteTime": {
          "end_time": "2021-02-03T11:34:05.261753Z",
          "start_time": "2021-02-03T11:34:05.120092Z"
        },
        "id": "DzcR2oT34M3v"
      },
      "outputs": [],
      "source": [
        "sns.set(style=\"whitegrid\")\n",
        "ax = sns.boxplot(x = tips['tip'], color='lightblue', fliersize=5, orient='v', linewidth=1, width=0.3)"
      ]
    },
    {
      "cell_type": "code",
      "execution_count": null,
      "metadata": {
        "ExecuteTime": {
          "end_time": "2021-02-03T11:34:43.003031Z",
          "start_time": "2021-02-03T11:34:42.855459Z"
        },
        "id": "2K4BQQFa4M3v"
      },
      "outputs": [],
      "source": [
        "ax = sns.boxplot(y=\"tip\", data=tips,  color='lightblue', fliersize=5,  orient='v', linewidth=1 , width=0.3)\n",
        "ax = sns.stripplot(y=tips[\"tip\"], orient='v', color='darkblue', alpha= 0.5)"
      ]
    },
    {
      "cell_type": "markdown",
      "metadata": {
        "ExecuteTime": {
          "end_time": "2021-02-03T11:36:21.844979Z",
          "start_time": "2021-02-03T11:36:21.838998Z"
        },
        "id": "NhcB5j-74M3v"
      },
      "source": [
        "<span style=color:blue><font size=4><b><u>Una Variable</u></b>: 1 Numérica = 'tip_pct'</font></span>"
      ]
    },
    {
      "cell_type": "code",
      "execution_count": null,
      "metadata": {
        "ExecuteTime": {
          "end_time": "2021-02-03T11:37:07.635732Z",
          "start_time": "2021-02-03T11:37:07.628753Z"
        },
        "id": "2K0cOjVg4M3w"
      },
      "outputs": [],
      "source": [
        "tips.dtypes"
      ]
    },
    {
      "cell_type": "code",
      "execution_count": null,
      "metadata": {
        "ExecuteTime": {
          "end_time": "2021-02-03T13:31:23.246526Z",
          "start_time": "2021-02-03T13:31:23.029107Z"
        },
        "id": "cVz-qWUZ4M3w"
      },
      "outputs": [],
      "source": [
        "sns.boxplot(y=\"tip_pct\", data=tips[tips.tip < 10],  color='lightblue', fliersize=5,  orient='v', linewidth=1 , width=0.3);"
      ]
    },
    {
      "cell_type": "markdown",
      "metadata": {
        "id": "56xBo-jR4M3w"
      },
      "source": [
        "<span style=color:blue><font size=4><b><u>Dos Variables</u></b>: 1 Categórica = 'day', 1 Numérica = 'tip_pct'</font></span>"
      ]
    },
    {
      "cell_type": "code",
      "execution_count": null,
      "metadata": {
        "ExecuteTime": {
          "end_time": "2021-02-03T11:48:08.920490Z",
          "start_time": "2021-02-03T11:48:08.663179Z"
        },
        "scrolled": true,
        "id": "_qTClBij4M3w"
      },
      "outputs": [],
      "source": [
        "## añadimos variable categorica 'day' en x:\n",
        "ax = sns.catplot(x='day', y='tip_pct', kind='box',\n",
        "                 data=tips[tips.tip_pct < 245]);"
      ]
    },
    {
      "cell_type": "code",
      "execution_count": null,
      "metadata": {
        "ExecuteTime": {
          "end_time": "2021-02-03T11:55:30.412466Z",
          "start_time": "2021-02-03T11:55:30.104291Z"
        },
        "id": "Di7UgrAM4M3x"
      },
      "outputs": [],
      "source": [
        "## añadimos variable categorica 'day' en x:\n",
        "ax = sns.catplot(x='day', y='tip_pct', kind='box',\n",
        "                 data=tips[tips.tip_pct < 245]);\n",
        "\n",
        "ax = sns.stripplot(x='day', y='tip_pct', data=tips[tips.tip_pct < 245], orient='v', color='darkblue', alpha= 0.4);"
      ]
    },
    {
      "cell_type": "markdown",
      "metadata": {
        "id": "w2eTG-iq4M3x"
      },
      "source": [
        "<span style=color:blue><font size=4><b><u>Tres Variables</u></b> : 2 Categóricas = ('day', 'time'), 1 Numérica = 'tip_pct'</font></span>"
      ]
    },
    {
      "cell_type": "code",
      "execution_count": null,
      "metadata": {
        "ExecuteTime": {
          "end_time": "2021-02-03T11:57:08.291854Z",
          "start_time": "2021-02-03T11:57:07.974702Z"
        },
        "id": "9PX22Gtp4M3y"
      },
      "outputs": [],
      "source": [
        "sns.boxplot(x='day', y='tip_pct', hue='time', \n",
        "               data=tips[tips.tip_pct < 245]);"
      ]
    },
    {
      "cell_type": "code",
      "execution_count": null,
      "metadata": {
        "ExecuteTime": {
          "end_time": "2021-02-03T13:20:04.417518Z",
          "start_time": "2021-02-03T13:20:03.625602Z"
        },
        "scrolled": true,
        "id": "c2TJ6yhc4M3y"
      },
      "outputs": [],
      "source": [
        "sns.boxplot(x='day', y='tip_pct', hue = 'time',\n",
        "               data=tips[tips.tip_pct < 245]);\n",
        "ax = sns.stripplot(x='day', y='tip_pct', hue='time', data=tips[tips.tip_pct < 245], orient='v', color='darkblue', alpha= 0.4);"
      ]
    },
    {
      "cell_type": "markdown",
      "metadata": {
        "id": "dEuPcuSh4M3y"
      },
      "source": [
        "## <span style=color:blue>Facet Grids y Categorical DataFrame</span>"
      ]
    },
    {
      "cell_type": "markdown",
      "metadata": {
        "id": "ddvBrVSW4M3z"
      },
      "source": [
        "Nos permite profundizar todavía más en el analysis, añadiendo una variable categórica adicional. \n",
        "\n",
        "Usando el método <span style=color:darkred><b>factorplot( )</b></span> de <span style=color:darkred>\"Facet Grid\"</span> :"
      ]
    },
    {
      "cell_type": "markdown",
      "metadata": {
        "ExecuteTime": {
          "end_time": "2021-02-03T13:24:29.112841Z",
          "start_time": "2021-02-03T13:24:29.106102Z"
        },
        "id": "9YZIeCdL4M3z"
      },
      "source": [
        "<span style=color:blue><font size=4><b><u>Cuatro Variables</u></b> : 3 Categoricas = ('day', 'time', 'smoker'), 1 Numérica = 'tip_pct'</font></span>"
      ]
    },
    {
      "cell_type": "code",
      "execution_count": null,
      "metadata": {
        "ExecuteTime": {
          "end_time": "2021-02-03T13:25:50.898847Z",
          "start_time": "2021-02-03T13:25:49.608813Z"
        },
        "id": "SRkwvTNP4M3z"
      },
      "outputs": [],
      "source": [
        "sns.catplot(x='day', y='tip_pct', hue='time', col='smoker',\n",
        "               kind='box', data=tips[tips.tip_pct < 245]);"
      ]
    },
    {
      "cell_type": "code",
      "execution_count": null,
      "metadata": {
        "ExecuteTime": {
          "end_time": "2021-02-03T13:30:27.750908Z",
          "start_time": "2021-02-03T13:30:26.415011Z"
        },
        "id": "SHU_3YhE4M30"
      },
      "outputs": [],
      "source": [
        "sns.catplot(x='day', y='tip_pct', hue='time', col='smoker',\n",
        "               kind='box', data=tips[tips.tip_pct < 245]);"
      ]
    },
    {
      "cell_type": "code",
      "execution_count": null,
      "metadata": {
        "id": "XjqW2-2t4M30"
      },
      "outputs": [],
      "source": [
        ""
      ]
    }
  ]
}